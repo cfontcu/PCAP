{
 "cells": [
  {
   "cell_type": "markdown",
   "id": "437e1263",
   "metadata": {},
   "source": [
    "# Actividad Leccion 2 PCAP. Parte I"
   ]
  },
  {
   "cell_type": "markdown",
   "id": "0a689ec8",
   "metadata": {},
   "source": [
    "Programa que calcule el sueldo neto anual de una pareja trabajadora dado el sueldo bruto de ambos salarios \n",
    "descontando el IRPF."
   ]
  },
  {
   "cell_type": "markdown",
   "id": "30123176",
   "metadata": {},
   "source": [
    "Autor: Carmen Fontcuberta"
   ]
  },
  {
   "cell_type": "code",
   "execution_count": 1,
   "id": "183edad4",
   "metadata": {},
   "outputs": [],
   "source": [
    "def calcular_sueldo_neto(salario_bruto):\n",
    "    \"\"\"\n",
    "    Calcula el sueldo neto anual para un salario bruto dado, descontando el IRPF.\n",
    "    \"\"\"\n",
    "    tramos = [(12450, 0.19), (20200, 0.24), (28000, 0.3), (35200, 0.303),(50000, 0.371), (float('inf'), 0.372)]\n",
    "    for limite, tipo in tramos:\n",
    "        if salario_bruto <= limite:\n",
    "            return salario_bruto * (1 - tipo)"
   ]
  },
  {
   "cell_type": "code",
   "execution_count": null,
   "id": "b10ddc02",
   "metadata": {},
   "outputs": [
    {
     "ename": "KeyboardInterrupt",
     "evalue": "Interrupted by user",
     "output_type": "error",
     "traceback": [
      "\u001b[1;31m---------------------------------------------------------------------------\u001b[0m",
      "\u001b[1;31mKeyboardInterrupt\u001b[0m                         Traceback (most recent call last)",
      "Cell \u001b[1;32mIn [2], line 18\u001b[0m\n\u001b[0;32m     16\u001b[0m \u001b[38;5;66;03m# Solicitar salario del primer trabajador\u001b[39;00m\n\u001b[0;32m     17\u001b[0m \u001b[38;5;28;01mwhile\u001b[39;00m \u001b[38;5;28;01mTrue\u001b[39;00m:\n\u001b[1;32m---> 18\u001b[0m     salario1 \u001b[38;5;241m=\u001b[39m \u001b[43msolicitar_salario\u001b[49m\u001b[43m(\u001b[49m\u001b[38;5;241;43m1\u001b[39;49m\u001b[43m)\u001b[49m\n\u001b[0;32m     19\u001b[0m     \u001b[38;5;28;01mif\u001b[39;00m salario1 \u001b[38;5;241m>\u001b[39m\u001b[38;5;241m=\u001b[39m \u001b[38;5;241m0\u001b[39m:\n\u001b[0;32m     20\u001b[0m         \u001b[38;5;28;01mbreak\u001b[39;00m\n",
      "Cell \u001b[1;32mIn [2], line 6\u001b[0m, in \u001b[0;36msolicitar_salario\u001b[1;34m(conyugue)\u001b[0m\n\u001b[0;32m      2\u001b[0m \u001b[38;5;124;03m\"\"\"\u001b[39;00m\n\u001b[0;32m      3\u001b[0m \u001b[38;5;124;03mSolicita un salario al usuario y comprueba que sea válido (no negativo).\u001b[39;00m\n\u001b[0;32m      4\u001b[0m \u001b[38;5;124;03m\"\"\"\u001b[39;00m\n\u001b[0;32m      5\u001b[0m \u001b[38;5;28;01mwhile\u001b[39;00m \u001b[38;5;28;01mTrue\u001b[39;00m:\n\u001b[1;32m----> 6\u001b[0m     salario_str \u001b[38;5;241m=\u001b[39m \u001b[38;5;28;43minput\u001b[39;49m\u001b[43m(\u001b[49m\u001b[38;5;124;43m\"\u001b[39;49m\u001b[38;5;124;43mIntroduzca el salario bruto anual del conyugue   \u001b[39;49m\u001b[38;5;124;43m\"\u001b[39;49m\u001b[43m \u001b[49m\u001b[38;5;241;43m+\u001b[39;49m\u001b[43m \u001b[49m\u001b[38;5;28;43mstr\u001b[39;49m\u001b[43m(\u001b[49m\u001b[43mconyugue\u001b[49m\u001b[43m \u001b[49m\u001b[43m)\u001b[49m\u001b[43m)\u001b[49m\n\u001b[0;32m      7\u001b[0m     \u001b[38;5;28;01mtry\u001b[39;00m:\n\u001b[0;32m      8\u001b[0m         salario \u001b[38;5;241m=\u001b[39m \u001b[38;5;28mfloat\u001b[39m(salario_str)\n",
      "File \u001b[1;32mc:\\users\\carmenfontcuberta\\appdata\\local\\programs\\python\\python38\\lib\\site-packages\\ipykernel\\kernelbase.py:1177\u001b[0m, in \u001b[0;36mKernel.raw_input\u001b[1;34m(self, prompt)\u001b[0m\n\u001b[0;32m   1173\u001b[0m \u001b[38;5;28;01mif\u001b[39;00m \u001b[38;5;129;01mnot\u001b[39;00m \u001b[38;5;28mself\u001b[39m\u001b[38;5;241m.\u001b[39m_allow_stdin:\n\u001b[0;32m   1174\u001b[0m     \u001b[38;5;28;01mraise\u001b[39;00m StdinNotImplementedError(\n\u001b[0;32m   1175\u001b[0m         \u001b[38;5;124m\"\u001b[39m\u001b[38;5;124mraw_input was called, but this frontend does not support input requests.\u001b[39m\u001b[38;5;124m\"\u001b[39m\n\u001b[0;32m   1176\u001b[0m     )\n\u001b[1;32m-> 1177\u001b[0m \u001b[38;5;28;01mreturn\u001b[39;00m \u001b[38;5;28;43mself\u001b[39;49m\u001b[38;5;241;43m.\u001b[39;49m\u001b[43m_input_request\u001b[49m\u001b[43m(\u001b[49m\n\u001b[0;32m   1178\u001b[0m \u001b[43m    \u001b[49m\u001b[38;5;28;43mstr\u001b[39;49m\u001b[43m(\u001b[49m\u001b[43mprompt\u001b[49m\u001b[43m)\u001b[49m\u001b[43m,\u001b[49m\n\u001b[0;32m   1179\u001b[0m \u001b[43m    \u001b[49m\u001b[38;5;28;43mself\u001b[39;49m\u001b[38;5;241;43m.\u001b[39;49m\u001b[43m_parent_ident\u001b[49m\u001b[43m[\u001b[49m\u001b[38;5;124;43m\"\u001b[39;49m\u001b[38;5;124;43mshell\u001b[39;49m\u001b[38;5;124;43m\"\u001b[39;49m\u001b[43m]\u001b[49m\u001b[43m,\u001b[49m\n\u001b[0;32m   1180\u001b[0m \u001b[43m    \u001b[49m\u001b[38;5;28;43mself\u001b[39;49m\u001b[38;5;241;43m.\u001b[39;49m\u001b[43mget_parent\u001b[49m\u001b[43m(\u001b[49m\u001b[38;5;124;43m\"\u001b[39;49m\u001b[38;5;124;43mshell\u001b[39;49m\u001b[38;5;124;43m\"\u001b[39;49m\u001b[43m)\u001b[49m\u001b[43m,\u001b[49m\n\u001b[0;32m   1181\u001b[0m \u001b[43m    \u001b[49m\u001b[43mpassword\u001b[49m\u001b[38;5;241;43m=\u001b[39;49m\u001b[38;5;28;43;01mFalse\u001b[39;49;00m\u001b[43m,\u001b[49m\n\u001b[0;32m   1182\u001b[0m \u001b[43m\u001b[49m\u001b[43m)\u001b[49m\n",
      "File \u001b[1;32mc:\\users\\carmenfontcuberta\\appdata\\local\\programs\\python\\python38\\lib\\site-packages\\ipykernel\\kernelbase.py:1219\u001b[0m, in \u001b[0;36mKernel._input_request\u001b[1;34m(self, prompt, ident, parent, password)\u001b[0m\n\u001b[0;32m   1216\u001b[0m             \u001b[38;5;28;01mbreak\u001b[39;00m\n\u001b[0;32m   1217\u001b[0m \u001b[38;5;28;01mexcept\u001b[39;00m \u001b[38;5;167;01mKeyboardInterrupt\u001b[39;00m:\n\u001b[0;32m   1218\u001b[0m     \u001b[38;5;66;03m# re-raise KeyboardInterrupt, to truncate traceback\u001b[39;00m\n\u001b[1;32m-> 1219\u001b[0m     \u001b[38;5;28;01mraise\u001b[39;00m \u001b[38;5;167;01mKeyboardInterrupt\u001b[39;00m(\u001b[38;5;124m\"\u001b[39m\u001b[38;5;124mInterrupted by user\u001b[39m\u001b[38;5;124m\"\u001b[39m) \u001b[38;5;28;01mfrom\u001b[39;00m \u001b[38;5;28mNone\u001b[39m\n\u001b[0;32m   1220\u001b[0m \u001b[38;5;28;01mexcept\u001b[39;00m \u001b[38;5;167;01mException\u001b[39;00m:\n\u001b[0;32m   1221\u001b[0m     \u001b[38;5;28mself\u001b[39m\u001b[38;5;241m.\u001b[39mlog\u001b[38;5;241m.\u001b[39mwarning(\u001b[38;5;124m\"\u001b[39m\u001b[38;5;124mInvalid Message:\u001b[39m\u001b[38;5;124m\"\u001b[39m, exc_info\u001b[38;5;241m=\u001b[39m\u001b[38;5;28;01mTrue\u001b[39;00m)\n",
      "\u001b[1;31mKeyboardInterrupt\u001b[0m: Interrupted by user"
     ]
    }
   ],
   "source": [
    "def solicitar_salario(conyugue):\n",
    "    \"\"\"\n",
    "    Solicita un salario al usuario y comprueba que sea válido (no negativo).\n",
    "    \"\"\"\n",
    "    while True:\n",
    "        salario_str = input(\"Introduzca el salario bruto anual del conyugue   \" + str(conyugue ))\n",
    "        try:\n",
    "            salario = float(salario_str)\n",
    "            if salario >= 0:\n",
    "                return salario\n",
    "            else:\n",
    "                print(\"Error: el salario debe ser un valor positivo o cero.\")\n",
    "        except ValueError:\n",
    "            print(\"Error: introduce un valor numérico válido.\")\n",
    "\n",
    "# Solicitar salario del primer trabajador\n",
    "while True:\n",
    "    salario1 = solicitar_salario(1)\n",
    "    if salario1 >= 0:\n",
    "        break\n",
    "    else:\n",
    "        print(\"Error: el salario debe ser un valor positivo o cero.\")"
   ]
  },
  {
   "cell_type": "code",
   "execution_count": null,
   "id": "42671539",
   "metadata": {},
   "outputs": [],
   "source": [
    "# Solicitar salario del segundo trabajador\n",
    "while True:\n",
    "    salario2 = solicitar_salario(2)\n",
    "    if salario2 >= 0:\n",
    "        break\n",
    "    else:\n",
    "        print(\"Error: el salario debe ser un valor positivo o cero.\")"
   ]
  },
  {
   "cell_type": "code",
   "execution_count": null,
   "id": "46c18a08",
   "metadata": {},
   "outputs": [],
   "source": [
    "# Calcular sueldo neto anual de cada trabajador\n",
    "sueldo_neto1 = calcular_sueldo_neto(salario1)\n",
    "sueldo_neto2 = calcular_sueldo_neto(salario2)"
   ]
  },
  {
   "cell_type": "code",
   "execution_count": null,
   "id": "53e66602",
   "metadata": {},
   "outputs": [],
   "source": [
    "# Calcular sueldo neto anual conjunto de la pareja\n",
    "sueldo_neto_pareja = sueldo_neto1 + sueldo_neto2"
   ]
  },
  {
   "cell_type": "code",
   "execution_count": null,
   "id": "97cab6f5",
   "metadata": {},
   "outputs": [],
   "source": [
    "# Mostrar resultados\n",
    "print(\"Sueldo neto anual del primer trabajador: {:.2f}\".format(sueldo_neto1))\n",
    "print(\"Sueldo neto anual del segundo trabajador: {:.2f}\".format(sueldo_neto2))\n",
    "print(\"Sueldo neto anual de la pareja: {:.2f}\".format(sueldo_neto_pareja))"
   ]
  },
  {
   "cell_type": "markdown",
   "id": "db7037b8",
   "metadata": {},
   "source": [
    "# Actividad Leccion 2 PCAP. Parte II"
   ]
  },
  {
   "cell_type": "markdown",
   "id": "b53da66b",
   "metadata": {},
   "source": []
  },
  {
   "attachments": {
    "image.png": {
     "image/png": "[encoded data removed]"
    }
   },
   "cell_type": "markdown",
   "id": "3b0d6b95",
   "metadata": {},
   "source": [
    "Pregunta 1:\n",
    "¿Cuál es la salida del siguiente fragmento de código\n",
    "![image.png](attachment:image.png)\n"
   ]
  }
 ],
 "metadata": {
  "kernelspec": {
   "display_name": "Python 3 (ipykernel)",
   "language": "python",
   "name": "python3"
  },
  "language_info": {
   "codemirror_mode": {
    "name": "ipython",
    "version": 3
   },
   "file_extension": ".py",
   "mimetype": "text/x-python",
   "name": "python",
   "nbconvert_exporter": "python",
   "pygments_lexer": "ipython3",
   "version": "3.8.5"
  }
 },
 "nbformat": 4,
 "nbformat_minor": 5
}
