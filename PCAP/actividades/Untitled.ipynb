{
 "cells": [
  {
   "cell_type": "markdown",
   "id": "24ee3713",
   "metadata": {},
   "source": [
    "# Actividad Leccion 2 PCAP. Parte I"
   ]
  },
  {
   "cell_type": "markdown",
   "id": "359e4148",
   "metadata": {},
   "source": [
    "Programa que calcule el sueldo neto anual de una pareja trabajadora dado el sueldo bruto de ambos salarios \n",
    "descontando el IRPF."
   ]
  },
  {
   "cell_type": "markdown",
   "id": "097953df",
   "metadata": {},
   "source": [
    "Autor: Carmen Fontcuberta"
   ]
  },
  {
   "cell_type": "code",
   "execution_count": 2,
   "id": "6c0cadb4",
   "metadata": {},
   "outputs": [],
   "source": [
    "def calcular_sueldo_neto(salario_bruto):\n",
    "    \"\"\"\n",
    "    Calcula el sueldo neto anual para un salario bruto dado, descontando el IRPF.\n",
    "    \"\"\"\n",
    "    tramos = [(12450, 0.19), (20200, 0.24), (28000, 0.3), (35200, 0.303),(50000, 0.371), (float('inf'), 0.372)]\n",
    "    for limite, tipo in tramos:\n",
    "        if salario_bruto <= limite:\n",
    "            return salario_bruto * (1 - tipo)"
   ]
  },
  {
   "cell_type": "code",
   "execution_count": 3,
   "id": "d1df8861",
   "metadata": {},
   "outputs": [
    {
     "name": "stdout",
     "output_type": "stream",
     "text": [
      "Introduzca el salario bruto anual del conyugue   1-7\n",
      "Error: el salario debe ser un valor positivo o cero.\n",
      "Introduzca el salario bruto anual del conyugue   10\n"
     ]
    }
   ],
   "source": [
    "def solicitar_salario(conyugue):\n",
    "    \"\"\"\n",
    "    Solicita un salario al usuario y comprueba que sea válido (no negativo).\n",
    "    \"\"\"\n",
    "    while True:\n",
    "        salario_str = input(\"Introduzca el salario bruto anual del conyugue   \" + str(conyugue ))\n",
    "        try:\n",
    "            salario = float(salario_str)\n",
    "            if salario >= 0:\n",
    "                return salario\n",
    "            else:\n",
    "                print(\"Error: el salario debe ser un valor positivo o cero.\")\n",
    "        except ValueError:\n",
    "            print(\"Error: introduce un valor numérico válido.\")\n",
    "\n",
    "# Solicitar salario del primer trabajador\n",
    "while True:\n",
    "    salario1 = solicitar_salario(1)\n",
    "    if salario1 >= 0:\n",
    "        break\n",
    "    else:\n",
    "        print(\"Error: el salario debe ser un valor positivo o cero.\")"
   ]
  },
  {
   "cell_type": "code",
   "execution_count": 4,
   "id": "35ad72f2",
   "metadata": {},
   "outputs": [
    {
     "name": "stdout",
     "output_type": "stream",
     "text": [
      "Introduzca el salario bruto anual del conyugue   2-90\n",
      "Error: el salario debe ser un valor positivo o cero.\n",
      "Introduzca el salario bruto anual del conyugue   20\n"
     ]
    }
   ],
   "source": [
    "# Solicitar salario del segundo trabajador\n",
    "while True:\n",
    "    salario2 = solicitar_salario(2)\n",
    "    if salario2 >= 0:\n",
    "        break\n",
    "    else:\n",
    "        print(\"Error: el salario debe ser un valor positivo o cero.\")"
   ]
  },
  {
   "cell_type": "code",
   "execution_count": 5,
   "id": "f1a38538",
   "metadata": {},
   "outputs": [],
   "source": [
    "# Calcular sueldo neto anual de cada trabajador\n",
    "sueldo_neto1 = calcular_sueldo_neto(salario1)\n",
    "sueldo_neto2 = calcular_sueldo_neto(salario2)"
   ]
  },
  {
   "cell_type": "code",
   "execution_count": 6,
   "id": "b2591949",
   "metadata": {},
   "outputs": [],
   "source": [
    "# Calcular sueldo neto anual conjunto de la pareja\n",
    "sueldo_neto_pareja = sueldo_neto1 + sueldo_neto2"
   ]
  },
  {
   "cell_type": "code",
   "execution_count": 7,
   "id": "d225165f",
   "metadata": {},
   "outputs": [
    {
     "name": "stdout",
     "output_type": "stream",
     "text": [
      "Sueldo neto anual del primer trabajador: 0.00\n",
      "Sueldo neto anual del segundo trabajador: 0.00\n",
      "Sueldo neto anual de la pareja: 0.00\n"
     ]
    }
   ],
   "source": [
    "# Mostrar resultados\n",
    "print(\"Sueldo neto anual del primer trabajador: {:.2f}\".format(sueldo_neto1))\n",
    "print(\"Sueldo neto anual del segundo trabajador: {:.2f}\".format(sueldo_neto2))\n",
    "print(\"Sueldo neto anual de la pareja: {:.2f}\".format(sueldo_neto_pareja))"
   ]
  },
  {
   "cell_type": "markdown",
   "id": "1970e8e4",
   "metadata": {},
   "source": [
    "# Actividad Leccion 2 PCAP. Parte II"
   ]
  },
  {
   "cell_type": "markdown",
   "id": "84a799bc",
   "metadata": {},
   "source": []
  },
  {
   "cell_type": "code",
   "execution_count": null,
   "id": "4ef9dc2a",
   "metadata": {},
   "outputs": [],
   "source": []
  }
 ],
 "metadata": {
  "kernelspec": {
   "display_name": "Python 3 (ipykernel)",
   "language": "python",
   "name": "python3"
  },
  "language_info": {
   "codemirror_mode": {
    "name": "ipython",
    "version": 3
   },
   "file_extension": ".py",
   "mimetype": "text/x-python",
   "name": "python",
   "nbconvert_exporter": "python",
   "pygments_lexer": "ipython3",
   "version": "3.8.5"
  }
 },
 "nbformat": 4,
 "nbformat_minor": 5
}
