{
 "cells": [
  {
   "cell_type": "markdown",
   "id": "57233cd1-81e2-4862-a696-45fd8798a2cb",
   "metadata": {},
   "source": [
    "# Lección 2"
   ]
  },
  {
   "cell_type": "code",
   "execution_count": 1,
   "id": "1680f78d-0cd4-4b8c-bd35-c244731b1560",
   "metadata": {},
   "outputs": [
    {
     "data": {
      "text/plain": [
       "int"
      ]
     },
     "execution_count": 1,
     "metadata": {},
     "output_type": "execute_result"
    }
   ],
   "source": [
    "# Literales en Python\n",
    "\n",
    "entero = 5\n",
    "type(entero)"
   ]
  },
  {
   "cell_type": "code",
   "execution_count": 2,
   "id": "0b3d44b4-2d33-486b-bbde-26f5961ce23e",
   "metadata": {},
   "outputs": [],
   "source": [
    "entero = 1_000_000"
   ]
  },
  {
   "cell_type": "code",
   "execution_count": 3,
   "id": "cad758ef-77bf-45f8-8084-4d982a7b94af",
   "metadata": {},
   "outputs": [
    {
     "name": "stdout",
     "output_type": "stream",
     "text": [
      "1000000\n"
     ]
    }
   ],
   "source": [
    "print(entero)"
   ]
  },
  {
   "cell_type": "code",
   "execution_count": 5,
   "id": "32a28810-8b8b-4812-8486-64064f137e12",
   "metadata": {},
   "outputs": [
    {
     "name": "stdout",
     "output_type": "stream",
     "text": [
      "226\n"
     ]
    }
   ],
   "source": [
    "octal = 0O342\n",
    "\n",
    "print(octal)"
   ]
  },
  {
   "cell_type": "code",
   "execution_count": 6,
   "id": "d4e24caf-8973-473c-a3d7-8cf25342f28c",
   "metadata": {},
   "outputs": [
    {
     "name": "stdout",
     "output_type": "stream",
     "text": [
      "15\n"
     ]
    }
   ],
   "source": [
    "hexadecimal = 0xF\n",
    "\n",
    "print(hexadecimal)"
   ]
  },
  {
   "cell_type": "code",
   "execution_count": 7,
   "id": "b5f221ea-012e-4c35-81f9-727e1f9df486",
   "metadata": {},
   "outputs": [
    {
     "data": {
      "text/plain": [
       "float"
      ]
     },
     "execution_count": 7,
     "metadata": {},
     "output_type": "execute_result"
    }
   ],
   "source": [
    "flotante = 3.5\n",
    "type(flotante)"
   ]
  },
  {
   "cell_type": "code",
   "execution_count": 8,
   "id": "419b088a-ab58-412c-8a77-e3c096967d0f",
   "metadata": {},
   "outputs": [
    {
     "name": "stdout",
     "output_type": "stream",
     "text": [
      "3.0\n"
     ]
    }
   ],
   "source": [
    "flotante = 3.  # 3.0\n",
    "print(flotante)"
   ]
  },
  {
   "cell_type": "code",
   "execution_count": 9,
   "id": "45997a3a-f88f-4500-98f4-1247b04c7c2a",
   "metadata": {},
   "outputs": [],
   "source": [
    "flotante = .4  # 0.4"
   ]
  },
  {
   "cell_type": "code",
   "execution_count": 12,
   "id": "16e38b3c-c5cb-4381-9e32-12cde74368b3",
   "metadata": {},
   "outputs": [
    {
     "name": "stdout",
     "output_type": "stream",
     "text": [
      "400.0\n"
     ]
    }
   ],
   "source": [
    "flotante = 4e2   # 400\n",
    "print(flotante)"
   ]
  },
  {
   "cell_type": "code",
   "execution_count": 13,
   "id": "3414d0fa-bb82-4e6e-ab4e-ce06c633449a",
   "metadata": {},
   "outputs": [
    {
     "data": {
      "text/plain": [
       "str"
      ]
     },
     "execution_count": 13,
     "metadata": {},
     "output_type": "execute_result"
    }
   ],
   "source": [
    "cadena = \"Mi cadena\"\n",
    "type(cadena)"
   ]
  },
  {
   "cell_type": "code",
   "execution_count": 14,
   "id": "1068fd5f-35ba-4283-b419-b264a54ca945",
   "metadata": {},
   "outputs": [
    {
     "data": {
      "text/plain": [
       "str"
      ]
     },
     "execution_count": 14,
     "metadata": {},
     "output_type": "execute_result"
    }
   ],
   "source": [
    "cadena = 'Mi cadena'\n",
    "type(cadena)"
   ]
  },
  {
   "cell_type": "code",
   "execution_count": 15,
   "id": "ec04831a-16bd-4b09-9d02-7e54abe7f9fe",
   "metadata": {},
   "outputs": [
    {
     "data": {
      "text/plain": [
       "bool"
      ]
     },
     "execution_count": 15,
     "metadata": {},
     "output_type": "execute_result"
    }
   ],
   "source": [
    "booleano = True\n",
    "type(booleano)"
   ]
  },
  {
   "cell_type": "code",
   "execution_count": 16,
   "id": "c5b1bb80-5b2d-4949-bbe2-2993c21e650a",
   "metadata": {},
   "outputs": [
    {
     "data": {
      "text/plain": [
       "bool"
      ]
     },
     "execution_count": 16,
     "metadata": {},
     "output_type": "execute_result"
    }
   ],
   "source": [
    "booleano = False\n",
    "type(booleano)"
   ]
  },
  {
   "cell_type": "code",
   "execution_count": 17,
   "id": "51e81f65-d1be-47e3-8a97-f8deaf69fad6",
   "metadata": {},
   "outputs": [
    {
     "data": {
      "text/plain": [
       "NoneType"
      ]
     },
     "execution_count": 17,
     "metadata": {},
     "output_type": "execute_result"
    }
   ],
   "source": [
    "ausencia = None\n",
    "type(ausencia)"
   ]
  },
  {
   "cell_type": "code",
   "execution_count": 18,
   "id": "220ec4ce-d739-4428-aa6f-88b0b3bc15da",
   "metadata": {},
   "outputs": [
    {
     "data": {
      "text/plain": [
       "int"
      ]
     },
     "execution_count": 18,
     "metadata": {},
     "output_type": "execute_result"
    }
   ],
   "source": [
    "# Operadores artiméticos\n",
    "\n",
    "type(2 + 4)"
   ]
  },
  {
   "cell_type": "code",
   "execution_count": 19,
   "id": "8d3f3996-095c-4ae0-83f7-9ea94ece84cd",
   "metadata": {},
   "outputs": [
    {
     "data": {
      "text/plain": [
       "float"
      ]
     },
     "execution_count": 19,
     "metadata": {},
     "output_type": "execute_result"
    }
   ],
   "source": [
    "type(2.0 + 4)"
   ]
  },
  {
   "cell_type": "code",
   "execution_count": 20,
   "id": "0ef88a1c-18bb-4428-a1b3-dbdf0c9ec55b",
   "metadata": {},
   "outputs": [
    {
     "data": {
      "text/plain": [
       "float"
      ]
     },
     "execution_count": 20,
     "metadata": {},
     "output_type": "execute_result"
    }
   ],
   "source": [
    "type(2 / 4)"
   ]
  },
  {
   "cell_type": "code",
   "execution_count": 21,
   "id": "ea621cd2-0b2d-43ef-909b-fb31f9df4543",
   "metadata": {},
   "outputs": [
    {
     "name": "stdout",
     "output_type": "stream",
     "text": [
      "2\n"
     ]
    }
   ],
   "source": [
    "print(5 // 2)"
   ]
  },
  {
   "cell_type": "code",
   "execution_count": 22,
   "id": "c26b1629-ac27-444f-b5ff-ab1ff5e30da8",
   "metadata": {},
   "outputs": [
    {
     "name": "stdout",
     "output_type": "stream",
     "text": [
      "-3\n"
     ]
    }
   ],
   "source": [
    "print(5 // -2)"
   ]
  },
  {
   "cell_type": "code",
   "execution_count": 23,
   "id": "0160c8ca-5354-46b1-b904-4606f453b4a0",
   "metadata": {},
   "outputs": [
    {
     "name": "stdout",
     "output_type": "stream",
     "text": [
      "-3.0\n"
     ]
    }
   ],
   "source": [
    "print(5 // -2.0)"
   ]
  },
  {
   "cell_type": "code",
   "execution_count": 24,
   "id": "ad56f333-b308-42e1-8b36-034ede771c47",
   "metadata": {},
   "outputs": [
    {
     "name": "stdout",
     "output_type": "stream",
     "text": [
      "True\n"
     ]
    }
   ],
   "source": [
    "# Operadores de comparación\n",
    "\n",
    "print(1 == 1)"
   ]
  },
  {
   "cell_type": "code",
   "execution_count": 25,
   "id": "d940d6a2-258d-4197-985c-26ff1217c277",
   "metadata": {},
   "outputs": [
    {
     "name": "stdout",
     "output_type": "stream",
     "text": [
      "False\n"
     ]
    }
   ],
   "source": [
    "print(1 < 1)"
   ]
  },
  {
   "cell_type": "code",
   "execution_count": 26,
   "id": "469bf276-28ed-4372-8777-30967731a01e",
   "metadata": {},
   "outputs": [
    {
     "name": "stdout",
     "output_type": "stream",
     "text": [
      "True\n"
     ]
    }
   ],
   "source": [
    "print(1 == 1.0)"
   ]
  },
  {
   "cell_type": "code",
   "execution_count": 27,
   "id": "28bcd8b2-dd1d-4dd0-9af3-84308a84f119",
   "metadata": {},
   "outputs": [
    {
     "name": "stdout",
     "output_type": "stream",
     "text": [
      "False\n"
     ]
    }
   ],
   "source": [
    "print(2 == 1.0)"
   ]
  },
  {
   "cell_type": "code",
   "execution_count": 28,
   "id": "3529a364-1807-4a8e-85b6-0fb951eff091",
   "metadata": {},
   "outputs": [
    {
     "name": "stdout",
     "output_type": "stream",
     "text": [
      "False\n"
     ]
    }
   ],
   "source": [
    "print(1 == \"1\")"
   ]
  },
  {
   "cell_type": "code",
   "execution_count": 29,
   "id": "5a5cc21f-9029-47a7-866c-39b034f8e5fa",
   "metadata": {},
   "outputs": [
    {
     "name": "stdout",
     "output_type": "stream",
     "text": [
      "True\n"
     ]
    }
   ],
   "source": [
    "print(1 == True)"
   ]
  },
  {
   "cell_type": "code",
   "execution_count": 30,
   "id": "1191ad31-b438-4fb3-9d11-93a15e0a41e5",
   "metadata": {},
   "outputs": [
    {
     "name": "stdout",
     "output_type": "stream",
     "text": [
      "False\n"
     ]
    }
   ],
   "source": [
    "print(1 == False)"
   ]
  },
  {
   "cell_type": "code",
   "execution_count": 31,
   "id": "46f0c28e-8a79-4df9-bf40-30a9721dfec9",
   "metadata": {},
   "outputs": [
    {
     "name": "stdout",
     "output_type": "stream",
     "text": [
      "True\n"
     ]
    }
   ],
   "source": [
    "print(0 == False)"
   ]
  },
  {
   "cell_type": "code",
   "execution_count": 32,
   "id": "d3901ae6-48dc-4460-bdd4-effa5e67a590",
   "metadata": {},
   "outputs": [
    {
     "name": "stdout",
     "output_type": "stream",
     "text": [
      "True\n"
     ]
    }
   ],
   "source": [
    "# Operadores lógicos\n",
    "\n",
    "print(True and True)"
   ]
  },
  {
   "cell_type": "code",
   "execution_count": 33,
   "id": "a864859c-015a-4354-ab39-b7b47d79922b",
   "metadata": {},
   "outputs": [
    {
     "name": "stdout",
     "output_type": "stream",
     "text": [
      "True\n"
     ]
    }
   ],
   "source": [
    "print(True or False)"
   ]
  },
  {
   "cell_type": "code",
   "execution_count": 34,
   "id": "77bd9c9e-090f-47b0-a20c-50c32123261d",
   "metadata": {},
   "outputs": [
    {
     "name": "stdout",
     "output_type": "stream",
     "text": [
      "False\n"
     ]
    }
   ],
   "source": [
    "print(not True)"
   ]
  },
  {
   "cell_type": "code",
   "execution_count": 35,
   "id": "43b54928-1f7b-4d34-a3c2-e41106adf63c",
   "metadata": {},
   "outputs": [
    {
     "name": "stdout",
     "output_type": "stream",
     "text": [
      "0\n"
     ]
    }
   ],
   "source": [
    "# Operadores de comparación bit a bit\n",
    "\n",
    "print(2 & 1)   # 10 y 01 ->   00"
   ]
  },
  {
   "cell_type": "code",
   "execution_count": 36,
   "id": "c6468a01-27d8-4b50-b644-e8a41a4396f3",
   "metadata": {},
   "outputs": [
    {
     "name": "stdout",
     "output_type": "stream",
     "text": [
      "3\n"
     ]
    }
   ],
   "source": [
    "print(2 | 1)   # 10 y 01 -> 11"
   ]
  },
  {
   "cell_type": "code",
   "execution_count": 37,
   "id": "abe29cba-49ae-4f70-a246-f6e4b1db2cf1",
   "metadata": {},
   "outputs": [
    {
     "ename": "TypeError",
     "evalue": "unsupported operand type(s) for &: 'float' and 'int'",
     "output_type": "error",
     "traceback": [
      "\u001b[1;31m---------------------------------------------------------------------------\u001b[0m",
      "\u001b[1;31mTypeError\u001b[0m                                 Traceback (most recent call last)",
      "Input \u001b[1;32mIn [37]\u001b[0m, in \u001b[0;36m<cell line: 1>\u001b[1;34m()\u001b[0m\n\u001b[1;32m----> 1\u001b[0m \u001b[38;5;28mprint\u001b[39m(\u001b[38;5;241;43m2.0\u001b[39;49m\u001b[43m \u001b[49m\u001b[38;5;241;43m&\u001b[39;49m\u001b[43m \u001b[49m\u001b[38;5;241;43m1\u001b[39;49m)\n",
      "\u001b[1;31mTypeError\u001b[0m: unsupported operand type(s) for &: 'float' and 'int'"
     ]
    }
   ],
   "source": [
    "print(2.0 & 1)"
   ]
  },
  {
   "cell_type": "code",
   "execution_count": 38,
   "id": "48cbdc7e-8a3b-408e-833c-4f80e78b58d4",
   "metadata": {},
   "outputs": [],
   "source": [
    "# Operadores de asignación\n",
    "\n",
    "x = 2"
   ]
  },
  {
   "cell_type": "code",
   "execution_count": 39,
   "id": "6b465232-38ea-4ec7-ab9c-3a17c94182df",
   "metadata": {},
   "outputs": [
    {
     "name": "stdout",
     "output_type": "stream",
     "text": [
      "3\n"
     ]
    }
   ],
   "source": [
    "x += 1  # x = x + 1\n",
    "\n",
    "print(x)"
   ]
  },
  {
   "cell_type": "code",
   "execution_count": 40,
   "id": "0f822cd0-605f-43de-b99b-b8fc791cdbca",
   "metadata": {},
   "outputs": [
    {
     "name": "stdout",
     "output_type": "stream",
     "text": [
      "33\n"
     ]
    }
   ],
   "source": [
    "y = 5\n",
    "x = 3\n",
    "x *= y + 6   # x = x * (y + 6)\n",
    "\n",
    "print(x)"
   ]
  },
  {
   "cell_type": "code",
   "execution_count": 41,
   "id": "7a0af7c6-040b-4cc6-bd30-0180e8b7d518",
   "metadata": {},
   "outputs": [
    {
     "name": "stdout",
     "output_type": "stream",
     "text": [
      "5\n",
      "3\n"
     ]
    }
   ],
   "source": [
    "x = 3\n",
    "y = 5\n",
    "\n",
    "x, y = y,x\n",
    "\n",
    "print(x)\n",
    "print(y)"
   ]
  },
  {
   "cell_type": "code",
   "execution_count": 42,
   "id": "7f550ed8-7389-42e0-9b38-2b55133aa1e2",
   "metadata": {},
   "outputs": [
    {
     "name": "stdout",
     "output_type": "stream",
     "text": [
      "23\n"
     ]
    }
   ],
   "source": [
    "# Jerarquía de operaciones\n",
    "\n",
    "x = 3 + 4 * 5\n",
    "\n",
    "print(x)"
   ]
  },
  {
   "cell_type": "code",
   "execution_count": 43,
   "id": "8fa3efc5-be78-4dee-bda7-10f3ba6dccf2",
   "metadata": {},
   "outputs": [
    {
     "name": "stdout",
     "output_type": "stream",
     "text": [
      "12\n"
     ]
    }
   ],
   "source": [
    "x = 3 + 4 + 5\n",
    "print(x)"
   ]
  },
  {
   "cell_type": "code",
   "execution_count": 44,
   "id": "df980c0c-9f38-4afa-be81-1f5c173321fb",
   "metadata": {},
   "outputs": [
    {
     "name": "stdout",
     "output_type": "stream",
     "text": [
      "8\n"
     ]
    }
   ],
   "source": [
    "x = 2 ** 3 ** 1\n",
    "\n",
    "print(x)"
   ]
  },
  {
   "cell_type": "code",
   "execution_count": 45,
   "id": "d5d5de1a-a6fc-4846-8b35-f7dce05992dd",
   "metadata": {},
   "outputs": [
    {
     "ename": "SyntaxError",
     "evalue": "invalid syntax (2417209718.py, line 3)",
     "output_type": "error",
     "traceback": [
      "\u001b[1;36m  Input \u001b[1;32mIn [45]\u001b[1;36m\u001b[0m\n\u001b[1;33m    Juan@ = 4\u001b[0m\n\u001b[1;37m          ^\u001b[0m\n\u001b[1;31mSyntaxError\u001b[0m\u001b[1;31m:\u001b[0m invalid syntax\n"
     ]
    }
   ],
   "source": [
    "# VARIABLES\n",
    "\n",
    "Juan@ = 4"
   ]
  },
  {
   "cell_type": "code",
   "execution_count": 46,
   "id": "1366f59d-3c9a-4d0c-9dd3-9c2c53b679a7",
   "metadata": {},
   "outputs": [],
   "source": [
    "Juan_8 = 6"
   ]
  },
  {
   "cell_type": "code",
   "execution_count": 47,
   "id": "07557cf9-d9ba-465a-a1e6-8ea8129e0d8f",
   "metadata": {},
   "outputs": [
    {
     "ename": "SyntaxError",
     "evalue": "invalid syntax (685115599.py, line 1)",
     "output_type": "error",
     "traceback": [
      "\u001b[1;36m  Input \u001b[1;32mIn [47]\u001b[1;36m\u001b[0m\n\u001b[1;33m    8Juan = 6\u001b[0m\n\u001b[1;37m      ^\u001b[0m\n\u001b[1;31mSyntaxError\u001b[0m\u001b[1;31m:\u001b[0m invalid syntax\n"
     ]
    }
   ],
   "source": [
    "8Juan = 6"
   ]
  },
  {
   "cell_type": "code",
   "execution_count": 48,
   "id": "f92eabd9-59e0-42ac-852a-c16510b05e2d",
   "metadata": {},
   "outputs": [
    {
     "ename": "NameError",
     "evalue": "name 'Tamara' is not defined",
     "output_type": "error",
     "traceback": [
      "\u001b[1;31m---------------------------------------------------------------------------\u001b[0m",
      "\u001b[1;31mNameError\u001b[0m                                 Traceback (most recent call last)",
      "Input \u001b[1;32mIn [48]\u001b[0m, in \u001b[0;36m<cell line: 1>\u001b[1;34m()\u001b[0m\n\u001b[1;32m----> 1\u001b[0m \u001b[38;5;28mprint\u001b[39m(\u001b[43mTamara\u001b[49m)\n",
      "\u001b[1;31mNameError\u001b[0m: name 'Tamara' is not defined"
     ]
    }
   ],
   "source": [
    "print(Tamara)"
   ]
  },
  {
   "cell_type": "code",
   "execution_count": 49,
   "id": "f4482371-2250-44b9-9cbc-efc19b5cf982",
   "metadata": {},
   "outputs": [
    {
     "name": "stdout",
     "output_type": "stream",
     "text": [
      "9\n"
     ]
    }
   ],
   "source": [
    "tamara = 9\n",
    "\n",
    "print(tamara)"
   ]
  },
  {
   "cell_type": "code",
   "execution_count": 50,
   "id": "40fddaa3-f054-48e6-8693-62b0b0fa6e6f",
   "metadata": {},
   "outputs": [
    {
     "ename": "NameError",
     "evalue": "name 'Tamara' is not defined",
     "output_type": "error",
     "traceback": [
      "\u001b[1;31m---------------------------------------------------------------------------\u001b[0m",
      "\u001b[1;31mNameError\u001b[0m                                 Traceback (most recent call last)",
      "Input \u001b[1;32mIn [50]\u001b[0m, in \u001b[0;36m<cell line: 1>\u001b[1;34m()\u001b[0m\n\u001b[1;32m----> 1\u001b[0m \u001b[38;5;28mprint\u001b[39m(\u001b[43mTamara\u001b[49m)\n",
      "\u001b[1;31mNameError\u001b[0m: name 'Tamara' is not defined"
     ]
    }
   ],
   "source": [
    "print(Tamara)"
   ]
  },
  {
   "cell_type": "code",
   "execution_count": 51,
   "id": "cc2e632c-b408-478c-8356-13364257a6b4",
   "metadata": {},
   "outputs": [
    {
     "ename": "SyntaxError",
     "evalue": "invalid syntax (2589573702.py, line 1)",
     "output_type": "error",
     "traceback": [
      "\u001b[1;36m  Input \u001b[1;32mIn [51]\u001b[1;36m\u001b[0m\n\u001b[1;33m    and = 1\u001b[0m\n\u001b[1;37m    ^\u001b[0m\n\u001b[1;31mSyntaxError\u001b[0m\u001b[1;31m:\u001b[0m invalid syntax\n"
     ]
    }
   ],
   "source": [
    "and = 1"
   ]
  },
  {
   "cell_type": "code",
   "execution_count": 52,
   "id": "2e2f7853-355c-4485-97b7-afd992f7ffbc",
   "metadata": {},
   "outputs": [
    {
     "name": "stdout",
     "output_type": "stream",
     "text": [
      "DENTRO\n"
     ]
    }
   ],
   "source": [
    "# Condicionales\n",
    "\n",
    "x = 2\n",
    "y = 1\n",
    "if x > y:\n",
    "    print(\"DENTRO\")"
   ]
  },
  {
   "cell_type": "code",
   "execution_count": 54,
   "id": "973124ea-3fef-4768-9694-9e8ab041f6c6",
   "metadata": {},
   "outputs": [
    {
     "name": "stdout",
     "output_type": "stream",
     "text": [
      "NO DENTRO\n"
     ]
    }
   ],
   "source": [
    "x = 1\n",
    "y = 2\n",
    "if x > y:\n",
    "    print(\"DENTRO\")\n",
    "else:\n",
    "    print(\"NO DENTRO\")"
   ]
  },
  {
   "cell_type": "code",
   "execution_count": 55,
   "id": "61fee20e-88e2-4842-be8f-f6987065f66d",
   "metadata": {},
   "outputs": [
    {
     "name": "stdout",
     "output_type": "stream",
     "text": [
      "B\n"
     ]
    }
   ],
   "source": [
    "x = 3\n",
    "\n",
    "if x <= 1:\n",
    "    print(\"A\")\n",
    "elif x <=5:\n",
    "    print(\"B\")\n",
    "elif x <=10:\n",
    "    print(\"C\")\n",
    "else:\n",
    "    print(\"NINGUNO\")"
   ]
  },
  {
   "cell_type": "code",
   "execution_count": 57,
   "id": "8baafb39-3fc0-4e42-adf1-78a8a62297eb",
   "metadata": {},
   "outputs": [
    {
     "name": "stdout",
     "output_type": "stream",
     "text": [
      "B\n"
     ]
    }
   ],
   "source": [
    "x = 0\n",
    "\n",
    "if x:\n",
    "    print(\"A\")\n",
    "else:\n",
    "    print(\"B\")"
   ]
  },
  {
   "cell_type": "code",
   "execution_count": 59,
   "id": "05781de0-271a-4fc9-be1d-7f060f01539f",
   "metadata": {},
   "outputs": [
    {
     "name": "stdout",
     "output_type": "stream",
     "text": [
      "A\n"
     ]
    }
   ],
   "source": [
    "x = \"RR\"\n",
    "\n",
    "if x:\n",
    "    print(\"A\")\n",
    "else:\n",
    "    print(\"B\")"
   ]
  },
  {
   "cell_type": "code",
   "execution_count": 61,
   "id": "57679e93-6288-4920-aa0b-d9eb957fba8d",
   "metadata": {},
   "outputs": [
    {
     "name": "stdout",
     "output_type": "stream",
     "text": [
      "A\n"
     ]
    }
   ],
   "source": [
    "x = [1, 2]\n",
    "\n",
    "if x:\n",
    "    print(\"A\")\n",
    "else:\n",
    "    print(\"B\")"
   ]
  },
  {
   "cell_type": "code",
   "execution_count": 62,
   "id": "82debd56-da52-4c6b-978e-89174b7a82c9",
   "metadata": {},
   "outputs": [
    {
     "name": "stdout",
     "output_type": "stream",
     "text": [
      "1\n",
      "2\n",
      "3\n",
      "4\n"
     ]
    }
   ],
   "source": [
    "# Bucle while\n",
    "\n",
    "a = 1\n",
    "\n",
    "while a < 5:\n",
    "    print(a)\n",
    "    a += 1"
   ]
  },
  {
   "cell_type": "code",
   "execution_count": 63,
   "id": "aa44d7ba-9808-4a1c-bbac-d553640041c5",
   "metadata": {},
   "outputs": [
    {
     "name": "stdout",
     "output_type": "stream",
     "text": [
      "1\n",
      "2\n",
      "3\n",
      "4\n",
      "- 5\n"
     ]
    }
   ],
   "source": [
    "a = 1\n",
    "\n",
    "while a < 5:\n",
    "    print(a)\n",
    "    a += 1\n",
    "else:\n",
    "    print(\"-\", a)"
   ]
  },
  {
   "cell_type": "code",
   "execution_count": 64,
   "id": "95631dd9-aa83-426c-9089-01aeec1f022c",
   "metadata": {},
   "outputs": [
    {
     "name": "stdout",
     "output_type": "stream",
     "text": [
      "1\n",
      "2\n",
      "- 2\n"
     ]
    }
   ],
   "source": [
    "a = 1\n",
    "\n",
    "while a < 5:\n",
    "    print(a)\n",
    "    if a == 2:\n",
    "        break\n",
    "    a += 1\n",
    "print(\"-\", a)"
   ]
  },
  {
   "cell_type": "code",
   "execution_count": 65,
   "id": "d991857e-099e-43aa-bcb6-39705ef4bc54",
   "metadata": {},
   "outputs": [
    {
     "name": "stdout",
     "output_type": "stream",
     "text": [
      "1\n",
      "2\n",
      "- 2\n"
     ]
    }
   ],
   "source": [
    "a = 1\n",
    "\n",
    "while a < 5:\n",
    "    print(a)\n",
    "    if a == 2:\n",
    "        break\n",
    "    a += 1\n",
    "else:\n",
    "    print(\"ELSE\")\n",
    "print(\"-\", a)"
   ]
  },
  {
   "cell_type": "code",
   "execution_count": 66,
   "id": "7c154e14-9e62-415d-a210-1f072c12c3ec",
   "metadata": {},
   "outputs": [
    {
     "name": "stdout",
     "output_type": "stream",
     "text": [
      "0\n",
      "1\n",
      "2\n",
      "3\n"
     ]
    }
   ],
   "source": [
    "# Bucle for\n",
    "\n",
    "# range(start=0, stop, step=1)\n",
    "\n",
    "for i in range(4): # 0 1 2 3\n",
    "    print(i)"
   ]
  },
  {
   "cell_type": "code",
   "execution_count": 67,
   "id": "29024a7e-b9f6-4b11-b281-f7219f4ecd06",
   "metadata": {},
   "outputs": [
    {
     "name": "stdout",
     "output_type": "stream",
     "text": [
      "1\n",
      "2\n",
      "3\n"
     ]
    }
   ],
   "source": [
    "for i in range(1, 4): # 1 2 3\n",
    "    print(i)"
   ]
  },
  {
   "cell_type": "code",
   "execution_count": 68,
   "id": "20cf5d6c-3615-4f3d-8dd2-27e86b460486",
   "metadata": {},
   "outputs": [
    {
     "name": "stdout",
     "output_type": "stream",
     "text": [
      "1\n",
      "3\n"
     ]
    }
   ],
   "source": [
    "for i in range(1, 4, 2): # 1 3\n",
    "    print(i)"
   ]
  },
  {
   "cell_type": "code",
   "execution_count": 69,
   "id": "bdf3414e-6c4f-4ac5-b73d-d40c6de28274",
   "metadata": {},
   "outputs": [
    {
     "name": "stdout",
     "output_type": "stream",
     "text": [
      "1\n",
      "3\n",
      "ELSE\n"
     ]
    }
   ],
   "source": [
    "for i in range(1, 4, 2): # 1 3\n",
    "    print(i)\n",
    "else:\n",
    "    print(\"ELSE\")"
   ]
  },
  {
   "cell_type": "code",
   "execution_count": 70,
   "id": "94daff95-f96b-408d-a66f-8d4bb9a34cc6",
   "metadata": {},
   "outputs": [
    {
     "name": "stdout",
     "output_type": "stream",
     "text": [
      "0\n",
      "1\n"
     ]
    }
   ],
   "source": [
    "for i in range(4): # 0 1 2 3\n",
    "    print(i)\n",
    "    if i == 1:\n",
    "        break\n",
    "else:\n",
    "    print(\"ELSE\")"
   ]
  },
  {
   "cell_type": "code",
   "execution_count": 72,
   "id": "d1caca04-0745-4c39-959c-d98884c24293",
   "metadata": {},
   "outputs": [
    {
     "name": "stdout",
     "output_type": "stream",
     "text": [
      "-1\n",
      "-2\n",
      "-3\n"
     ]
    }
   ],
   "source": [
    "for i in range(-1, -4, -1):\n",
    "    print(i)"
   ]
  },
  {
   "cell_type": "code",
   "execution_count": 73,
   "id": "a30d5fa4-dcb2-422d-a5b1-e8a01281616a",
   "metadata": {},
   "outputs": [],
   "source": [
    "for i in range(4, 1, 1):\n",
    "    print(i)"
   ]
  },
  {
   "cell_type": "code",
   "execution_count": 74,
   "id": "36b6718c-0f51-4bd7-a7b8-5907854d6113",
   "metadata": {},
   "outputs": [],
   "source": [
    "# Funciones\n",
    "\n",
    "def mostrar_nombre():\n",
    "    print(\"Tamara\")\n",
    "\n"
   ]
  },
  {
   "cell_type": "code",
   "execution_count": 76,
   "id": "5ce2181b-544c-4557-a4dd-7d6087ca47f9",
   "metadata": {},
   "outputs": [
    {
     "name": "stdout",
     "output_type": "stream",
     "text": [
      "Tamara\n"
     ]
    }
   ],
   "source": [
    "mostrar_nombre()"
   ]
  },
  {
   "cell_type": "code",
   "execution_count": 77,
   "id": "bebfd383-95e6-4119-9383-9a1e19e02c5e",
   "metadata": {},
   "outputs": [],
   "source": [
    "def mostrar_nombre():\n",
    "    print(\"Tamara\")\n",
    "    return 1"
   ]
  },
  {
   "cell_type": "code",
   "execution_count": 78,
   "id": "f174e0c7-a7f3-4be3-b0ab-3dbb31bdf6e8",
   "metadata": {},
   "outputs": [
    {
     "name": "stdout",
     "output_type": "stream",
     "text": [
      "Tamara\n"
     ]
    }
   ],
   "source": [
    "resultado = mostrar_nombre()"
   ]
  },
  {
   "cell_type": "code",
   "execution_count": 79,
   "id": "cbb62505-c131-40df-a08e-202141c5b769",
   "metadata": {},
   "outputs": [
    {
     "name": "stdout",
     "output_type": "stream",
     "text": [
      "1\n"
     ]
    }
   ],
   "source": [
    "print(resultado)"
   ]
  },
  {
   "cell_type": "code",
   "execution_count": 80,
   "id": "6e96aef0-6b44-433e-af5b-80d40481b9c6",
   "metadata": {},
   "outputs": [],
   "source": [
    "def mostrar_nombre():\n",
    "    print(\"Tamara\")"
   ]
  },
  {
   "cell_type": "code",
   "execution_count": 81,
   "id": "428d5e5a-e033-4562-9fd8-83259d59a0dd",
   "metadata": {},
   "outputs": [
    {
     "name": "stdout",
     "output_type": "stream",
     "text": [
      "Tamara\n"
     ]
    }
   ],
   "source": [
    "resultado = mostrar_nombre()"
   ]
  },
  {
   "cell_type": "code",
   "execution_count": 82,
   "id": "bf065046-ae76-4a58-9336-51cbfb90841f",
   "metadata": {},
   "outputs": [
    {
     "name": "stdout",
     "output_type": "stream",
     "text": [
      "None\n"
     ]
    }
   ],
   "source": [
    "print(resultado)"
   ]
  },
  {
   "cell_type": "code",
   "execution_count": 83,
   "id": "008ab2a6-abb0-4cf0-baf4-1f0b5afe61a2",
   "metadata": {},
   "outputs": [
    {
     "name": "stdout",
     "output_type": "stream",
     "text": [
      "Tamara\n",
      "None\n"
     ]
    }
   ],
   "source": [
    "def mostrar_nombre():\n",
    "    print(\"Tamara\")\n",
    "    return\n",
    "\n",
    "resultado = mostrar_nombre()\n",
    "print(resultado)"
   ]
  },
  {
   "cell_type": "code",
   "execution_count": 87,
   "id": "5ff42ba7-6390-46a1-8e79-3efa38531097",
   "metadata": {},
   "outputs": [],
   "source": [
    "def mostrar_nombre(nombre, apellido1, apellido2):\n",
    "    print(\"NOMBRE: \", nombre, apellido1, apellido2)"
   ]
  },
  {
   "cell_type": "code",
   "execution_count": 85,
   "id": "984dc138-e0f4-4c1d-9ee5-ed297d8baa7e",
   "metadata": {},
   "outputs": [
    {
     "ename": "TypeError",
     "evalue": "mostrar_nombre() missing 3 required positional arguments: 'nombre', 'apellido1', and 'apellido2'",
     "output_type": "error",
     "traceback": [
      "\u001b[1;31m---------------------------------------------------------------------------\u001b[0m",
      "\u001b[1;31mTypeError\u001b[0m                                 Traceback (most recent call last)",
      "Input \u001b[1;32mIn [85]\u001b[0m, in \u001b[0;36m<cell line: 1>\u001b[1;34m()\u001b[0m\n\u001b[1;32m----> 1\u001b[0m \u001b[43mmostrar_nombre\u001b[49m\u001b[43m(\u001b[49m\u001b[43m)\u001b[49m\n",
      "\u001b[1;31mTypeError\u001b[0m: mostrar_nombre() missing 3 required positional arguments: 'nombre', 'apellido1', and 'apellido2'"
     ]
    }
   ],
   "source": [
    "mostrar_nombre()"
   ]
  },
  {
   "cell_type": "code",
   "execution_count": 88,
   "id": "dffaa801-a7d9-4618-8546-d1beea6893f1",
   "metadata": {},
   "outputs": [
    {
     "name": "stdout",
     "output_type": "stream",
     "text": [
      "NOMBRE:  Tamara Civera Lorenzo\n"
     ]
    }
   ],
   "source": [
    "mostrar_nombre(\"Tamara\", \"Civera\", \"Lorenzo\")"
   ]
  },
  {
   "cell_type": "code",
   "execution_count": 89,
   "id": "26340891-3222-4e09-b93d-60d713d5988b",
   "metadata": {},
   "outputs": [],
   "source": [
    "def mostrar_nombre(nombre, apellido1, apellido2=\"\"):\n",
    "    print(\"NOMBRE: \", nombre, apellido1, apellido2)"
   ]
  },
  {
   "cell_type": "code",
   "execution_count": 90,
   "id": "1ca31953-e4e3-4204-b1f0-c7ae67154eb6",
   "metadata": {},
   "outputs": [
    {
     "name": "stdout",
     "output_type": "stream",
     "text": [
      "NOMBRE:  Tamara Civera Lorenzo\n"
     ]
    }
   ],
   "source": [
    "mostrar_nombre(\"Tamara\", \"Civera\", \"Lorenzo\")"
   ]
  },
  {
   "cell_type": "code",
   "execution_count": 91,
   "id": "b07f7bff-5873-4480-b1d0-478037ea8f28",
   "metadata": {},
   "outputs": [
    {
     "name": "stdout",
     "output_type": "stream",
     "text": [
      "NOMBRE:  Tamara Civera \n"
     ]
    }
   ],
   "source": [
    "mostrar_nombre(\"Tamara\", \"Civera\")"
   ]
  },
  {
   "cell_type": "code",
   "execution_count": 92,
   "id": "7779c3ad-9ade-4be0-99fb-704e1ac752bd",
   "metadata": {},
   "outputs": [],
   "source": [
    "def mostrar_nombre(nombre, apellido1, apellido2=\"\"):\n",
    "    print(\"NOMBRE: \", nombre, apellido1, apellido2)"
   ]
  },
  {
   "cell_type": "code",
   "execution_count": 93,
   "id": "23899bf7-4136-4530-896b-2c33cc2e4491",
   "metadata": {},
   "outputs": [
    {
     "name": "stdout",
     "output_type": "stream",
     "text": [
      "NOMBRE:  Tamara Civera Lorenzo\n"
     ]
    }
   ],
   "source": [
    "# Paso de parámetro posicional\n",
    "\n",
    "mostrar_nombre(\"Tamara\", \"Civera\", \"Lorenzo\")"
   ]
  },
  {
   "cell_type": "code",
   "execution_count": 94,
   "id": "8571ed61-cd47-41ed-ba00-04dd32742f42",
   "metadata": {},
   "outputs": [
    {
     "name": "stdout",
     "output_type": "stream",
     "text": [
      "NOMBRE:  Lorenzo Tamara Civera\n"
     ]
    }
   ],
   "source": [
    "# Paso de parámetro por palabras clave\n",
    "\n",
    "mostrar_nombre(apellido1=\"Tamara\", apellido2=\"Civera\", nombre=\"Lorenzo\")"
   ]
  },
  {
   "cell_type": "code",
   "execution_count": 95,
   "id": "d1b35c5c-051e-4c14-b9b4-d1131099aa41",
   "metadata": {},
   "outputs": [
    {
     "name": "stdout",
     "output_type": "stream",
     "text": [
      "NOMBRE:  Tamara Lorenzo Civera\n"
     ]
    }
   ],
   "source": [
    "# Paso de parámetro combinado\n",
    "\n",
    "mostrar_nombre(\"Tamara\", apellido2=\"Civera\", apellido1=\"Lorenzo\")"
   ]
  },
  {
   "cell_type": "code",
   "execution_count": 96,
   "id": "de442845-c56b-48f8-ba0e-080e55960f7f",
   "metadata": {},
   "outputs": [
    {
     "name": "stdout",
     "output_type": "stream",
     "text": [
      "2\n"
     ]
    }
   ],
   "source": [
    "# Alcance de una variable\n",
    "\n",
    "def mi_funcion():\n",
    "    print(var)\n",
    "    \n",
    "var = 2\n",
    "mi_funcion()"
   ]
  },
  {
   "cell_type": "code",
   "execution_count": 97,
   "id": "981c20c2-ed24-465d-8b55-9c2f11cef4bd",
   "metadata": {},
   "outputs": [
    {
     "name": "stdout",
     "output_type": "stream",
     "text": [
      "3\n"
     ]
    }
   ],
   "source": [
    "# Alcance de una variable\n",
    "\n",
    "def mi_funcion():\n",
    "    var = 3\n",
    "    print(var)\n",
    "    \n",
    "var = 2\n",
    "mi_funcion()"
   ]
  },
  {
   "cell_type": "code",
   "execution_count": 98,
   "id": "43fda0f5-1b6f-4dcb-b939-95620da0dd74",
   "metadata": {},
   "outputs": [
    {
     "name": "stdout",
     "output_type": "stream",
     "text": [
      "2\n"
     ]
    }
   ],
   "source": [
    "print(var)"
   ]
  },
  {
   "cell_type": "code",
   "execution_count": 99,
   "id": "16f25d0b-e4e6-48ac-ab88-0fdfd9c0f54f",
   "metadata": {},
   "outputs": [
    {
     "name": "stdout",
     "output_type": "stream",
     "text": [
      "3\n",
      "3\n"
     ]
    }
   ],
   "source": [
    "def mi_funcion():\n",
    "    global var\n",
    "    var = 3\n",
    "    print(var)\n",
    "    \n",
    "var = 2\n",
    "mi_funcion()\n",
    "print(var)"
   ]
  },
  {
   "cell_type": "code",
   "execution_count": 100,
   "id": "c7092efd-b7d6-4388-ba2b-804b82c132c3",
   "metadata": {},
   "outputs": [
    {
     "name": "stdout",
     "output_type": "stream",
     "text": [
      "[3, 2]\n"
     ]
    }
   ],
   "source": [
    "var = [1, 2]\n",
    "\n",
    "def mi_funcion():\n",
    "    var[0] = 3\n",
    "    \n",
    "mi_funcion()\n",
    "print(var)"
   ]
  },
  {
   "cell_type": "code",
   "execution_count": 101,
   "id": "f8491a6b-9b17-453e-b0f2-629a8e0eff09",
   "metadata": {},
   "outputs": [],
   "source": [
    "def mi_funcion():\n",
    "    var1 = 2\n",
    "    \n",
    "mi_funcion()"
   ]
  },
  {
   "cell_type": "code",
   "execution_count": 102,
   "id": "72295197-a95a-4e7c-91c0-5b359104e0c6",
   "metadata": {},
   "outputs": [
    {
     "ename": "NameError",
     "evalue": "name 'var1' is not defined",
     "output_type": "error",
     "traceback": [
      "\u001b[1;31m---------------------------------------------------------------------------\u001b[0m",
      "\u001b[1;31mNameError\u001b[0m                                 Traceback (most recent call last)",
      "Input \u001b[1;32mIn [102]\u001b[0m, in \u001b[0;36m<cell line: 1>\u001b[1;34m()\u001b[0m\n\u001b[1;32m----> 1\u001b[0m \u001b[38;5;28mprint\u001b[39m(\u001b[43mvar1\u001b[49m)\n",
      "\u001b[1;31mNameError\u001b[0m: name 'var1' is not defined"
     ]
    }
   ],
   "source": [
    "print(var1)"
   ]
  },
  {
   "cell_type": "code",
   "execution_count": 103,
   "id": "cbb3adb1-e8ba-4139-945f-6b03743d38ee",
   "metadata": {},
   "outputs": [
    {
     "name": "stdout",
     "output_type": "stream",
     "text": [
      "Tamara Civera Lorenzo\n",
      "Hola\n"
     ]
    }
   ],
   "source": [
    "# print()\n",
    "\n",
    "print(\"Tamara\", \"Civera\", \"Lorenzo\")\n",
    "print(\"Hola\")"
   ]
  },
  {
   "cell_type": "code",
   "execution_count": 104,
   "id": "1fb3d082-2e0b-433a-bc82-e044105cb492",
   "metadata": {},
   "outputs": [
    {
     "name": "stdout",
     "output_type": "stream",
     "text": [
      "Tamara-Civera-Lorenzo\n",
      "Hola\n"
     ]
    }
   ],
   "source": [
    "print(\"Tamara\", \"Civera\", \"Lorenzo\", sep=\"-\")\n",
    "print(\"Hola\")"
   ]
  },
  {
   "cell_type": "code",
   "execution_count": 105,
   "id": "a0f29c68-0737-4206-8fdd-205d7125faf7",
   "metadata": {},
   "outputs": [
    {
     "name": "stdout",
     "output_type": "stream",
     "text": [
      "Tamara-Civera-Lorenzo+Hola\n"
     ]
    }
   ],
   "source": [
    "print(\"Tamara\", \"Civera\", \"Lorenzo\", sep=\"-\", end=\"+\")\n",
    "print(\"Hola\")"
   ]
  },
  {
   "cell_type": "code",
   "execution_count": 106,
   "id": "c2f72ca5-9967-4699-9aff-ef4a90eb806f",
   "metadata": {},
   "outputs": [
    {
     "name": "stdout",
     "output_type": "stream",
     "text": [
      "Introduzca un valor:\n"
     ]
    },
    {
     "name": "stdin",
     "output_type": "stream",
     "text": [
      " Hola\n"
     ]
    }
   ],
   "source": [
    "# input()\n",
    "\n",
    "print(\"Introduzca un valor:\")\n",
    "valor = input()"
   ]
  },
  {
   "cell_type": "code",
   "execution_count": 107,
   "id": "c63304b4-b976-46d4-94fb-c7026584c18e",
   "metadata": {},
   "outputs": [
    {
     "name": "stdout",
     "output_type": "stream",
     "text": [
      "Hola\n"
     ]
    }
   ],
   "source": [
    "print(valor)"
   ]
  },
  {
   "cell_type": "code",
   "execution_count": 108,
   "id": "314ea5cf-5bb1-47f7-8752-aa3d195e1e15",
   "metadata": {},
   "outputs": [
    {
     "name": "stdin",
     "output_type": "stream",
     "text": [
      "Introduzca un valor: 800\n"
     ]
    }
   ],
   "source": [
    "valor = input(\"Introduzca un valor:\")"
   ]
  },
  {
   "cell_type": "code",
   "execution_count": 109,
   "id": "19da1db8-55f8-47cb-bef2-9cb9bfe0caa5",
   "metadata": {},
   "outputs": [
    {
     "data": {
      "text/plain": [
       "str"
      ]
     },
     "execution_count": 109,
     "metadata": {},
     "output_type": "execute_result"
    }
   ],
   "source": [
    "type(valor)"
   ]
  },
  {
   "cell_type": "code",
   "execution_count": 110,
   "id": "dbcbb3a5-03d8-4899-96aa-fe806d551a8e",
   "metadata": {},
   "outputs": [
    {
     "data": {
      "text/plain": [
       "int"
      ]
     },
     "execution_count": 110,
     "metadata": {},
     "output_type": "execute_result"
    }
   ],
   "source": [
    "valor = int(valor)\n",
    "type(valor)"
   ]
  },
  {
   "cell_type": "code",
   "execution_count": 111,
   "id": "bf689de3-50ee-4502-8baa-bc553632cfb1",
   "metadata": {},
   "outputs": [
    {
     "data": {
      "text/plain": [
       "float"
      ]
     },
     "execution_count": 111,
     "metadata": {},
     "output_type": "execute_result"
    }
   ],
   "source": [
    "valor = float(valor)\n",
    "type(valor)"
   ]
  },
  {
   "cell_type": "code",
   "execution_count": null,
   "id": "7bd79d95-4790-46c2-a2f7-cdb4ba16e1da",
   "metadata": {},
   "outputs": [],
   "source": []
  }
 ],
 "metadata": {
  "kernelspec": {
   "display_name": "Python 3 (ipykernel)",
   "language": "python",
   "name": "python3"
  },
  "language_info": {
   "codemirror_mode": {
    "name": "ipython",
    "version": 3
   },
   "file_extension": ".py",
   "mimetype": "text/x-python",
   "name": "python",
   "nbconvert_exporter": "python",
   "pygments_lexer": "ipython3",
   "version": "3.9.12"
  }
 },
 "nbformat": 4,
 "nbformat_minor": 5
}
